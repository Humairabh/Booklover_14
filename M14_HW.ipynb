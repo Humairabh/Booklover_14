{
 "cells": [
  {
   "cell_type": "markdown",
   "metadata": {},
   "source": [
    "# Metadata\n",
    "\n",
    "```yaml\n",
    "Course:  DS 5100\n",
    "Module:  14 Python Packages\n",
    "Topic:   HW Package Booklover\n",
    "Author:  R.C. Alvarado\n",
    "Date:    11 July 2022\n",
    "```"
   ]
  },
  {
   "cell_type": "markdown",
   "metadata": {},
   "source": [
    "# Student Metadata\n",
    "\n",
    "* Name: Humaira Halim \n",
    "* NetID: hbh4bv"
   ]
  },
  {
   "cell_type": "markdown",
   "metadata": {},
   "source": [
    "# Instructions\n",
    "\n",
    "Follow the recipe we used in class to package the code you wrote for `HW09` -- `booklover.py` and `booklover_test.py`.\n",
    "\n",
    "Here is the recipe:\n",
    "* Create a new git repo for your package.\n",
    "* Create and edit the required files and directories for your package and move the booklover modules there.\n",
    "* Stage, commit, and push all the files you've created.\n",
    "* Install your package with pip.\n",
    "* Outside of your package dir, write a script to test your method.\n",
    "\n",
    "Put this notebook in your repo. This will allow you to execute bash commands and capture the outpunt directly in the notebook.\n",
    "\n",
    "**TOTAL: 8 POINTS**"
   ]
  },
  {
   "cell_type": "markdown",
   "metadata": {
    "tags": []
   },
   "source": [
    "# Q1\n",
    "\n",
    "(5 points)\n",
    "\n",
    "Show the directory structure of your repo by running this command from the root of your repo:"
   ]
  },
  {
   "cell_type": "code",
   "execution_count": 7,
   "metadata": {},
   "outputs": [
    {
     "name": "stdout",
     "output_type": "stream",
     "text": [
      "total 40\n",
      "-rw-r--r--  1 humaira  staff  1070 Jul 11 12:02 LICENSE\n",
      "-rw-r--r--  1 humaira  staff  5737 Jul 11 12:55 M14_HW.ipynb\n",
      "-rw-r--r--  1 humaira  staff    16 Jul 11 12:04 README.md\n",
      "drwxr-xr-x@ 7 humaira  staff   224 Jul 11 12:32 \u001b[34mpackage\u001b[m\u001b[m\n",
      "drwxr-xr-x@ 6 humaira  staff   192 Jul 11 12:44 \u001b[34mpackage.egg-info\u001b[m\u001b[m\n",
      "-rw-r--r--  1 humaira  staff   304 Jul 11 12:44 setup.py\n",
      "\n",
      "./package:\n",
      "total 24\n",
      "-rw-r--r--  1 humaira  staff    33 Jul 11 12:28 __init__.py\n",
      "drwxr-xr-x@ 4 humaira  staff   128 Jul 11 12:32 \u001b[34m__pycache__\u001b[m\u001b[m\n",
      "-rw-r--r--  1 humaira  staff  1064 Jul 11 12:28 booklover.py\n",
      "-rw-r--r--  1 humaira  staff  2430 Jul 11 12:28 booklover_test.py\n",
      "\n",
      "./package/__pycache__:\n",
      "total 16\n",
      "-rw-r--r--  1 humaira  staff   185 Jul 11 12:32 __init__.cpython-38.pyc\n",
      "-rw-r--r--  1 humaira  staff  1416 Jul 11 12:32 booklover.cpython-38.pyc\n",
      "\n",
      "./package.egg-info:\n",
      "total 32\n",
      "-rw-r--r--  1 humaira  staff  236 Jul 11 12:44 PKG-INFO\n",
      "-rw-r--r--  1 humaira  staff  217 Jul 11 12:44 SOURCES.txt\n",
      "-rw-r--r--  1 humaira  staff    1 Jul 11 12:44 dependency_links.txt\n",
      "-rw-r--r--  1 humaira  staff    8 Jul 11 12:44 top_level.txt\n"
     ]
    }
   ],
   "source": [
    "!ls -lR"
   ]
  },
  {
   "cell_type": "markdown",
   "metadata": {},
   "source": [
    "# Q2\n",
    "\n",
    "(1 point)\n",
    "\n",
    "Put the URL of your GitHub repo here. Just paste it into a Markdown cell."
   ]
  },
  {
   "cell_type": "markdown",
   "metadata": {},
   "source": [
    "URL: https://github.com/Humairabh/Booklover_14"
   ]
  },
  {
   "cell_type": "markdown",
   "metadata": {
    "lines_to_next_cell": 0
   },
   "source": [
    "# Q3\n",
    "\n",
    "(1 point)\n",
    "\n",
    "Show the results of installing your package.\n",
    "\n",
    "```bash\n",
    "!pip install -e .\n",
    "```"
   ]
  },
  {
   "cell_type": "code",
   "execution_count": 4,
   "metadata": {},
   "outputs": [
    {
     "name": "stdout",
     "output_type": "stream",
     "text": [
      "Obtaining file:///Users/humaira/Documents/Booklover_14\n",
      "  Preparing metadata (setup.py) ... \u001b[?25ldone\n",
      "\u001b[?25hInstalling collected packages: package\n",
      "  Running setup.py develop for package\n",
      "Successfully installed package-0.1\n"
     ]
    }
   ],
   "source": [
    "!pip install -e ."
   ]
  },
  {
   "cell_type": "markdown",
   "metadata": {},
   "source": [
    "# Q4\n",
    "\n",
    "(1 point)\n",
    "\n",
    "Create a file outside your repo (one level up) to test your package.\n",
    "\n",
    "Import the package and run it. Specifically, create a BookLover object, add a book, and then print number books read.\n",
    "\n",
    "Show the output of running the file below, using a command like the following:\n",
    "\n",
    "```bash\n",
    "!python ../book_lover_demo.py\n",
    "```"
   ]
  },
  {
   "cell_type": "code",
   "execution_count": 6,
   "metadata": {},
   "outputs": [
    {
     "name": "stdout",
     "output_type": "stream",
     "text": [
      "Welcome to  our module.\n",
      "/Users/humaira/Documents/Booklover_14/package/booklover.py:14: FutureWarning: elementwise comparison failed; returning scalar instead, but in the future will perform elementwise comparison\n",
      "  if book_name in self.book_list[\"book_name\"].values:\n",
      "1\n"
     ]
    }
   ],
   "source": [
    "!python /Users/humaira/Documents/testbl.py"
   ]
  }
 ],
 "metadata": {
  "jupytext": {
   "cell_metadata_filter": "-all",
   "main_language": "bash",
   "notebook_metadata_filter": "-all"
  },
  "kernelspec": {
   "display_name": "Python 3",
   "language": "python",
   "name": "python3"
  },
  "language_info": {
   "codemirror_mode": {
    "name": "ipython",
    "version": 3
   },
   "file_extension": ".py",
   "mimetype": "text/x-python",
   "name": "python",
   "nbconvert_exporter": "python",
   "pygments_lexer": "ipython3",
   "version": "3.8.5"
  },
  "widgets": {
   "application/vnd.jupyter.widget-state+json": {
    "state": {},
    "version_major": 2,
    "version_minor": 0
   }
  }
 },
 "nbformat": 4,
 "nbformat_minor": 5
}
